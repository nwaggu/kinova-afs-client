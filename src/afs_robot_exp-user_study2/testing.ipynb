{
 "cells": [
  {
   "cell_type": "code",
   "execution_count": 10,
   "metadata": {},
   "outputs": [
    {
     "name": "stdout",
     "output_type": "stream",
     "text": [
      "Linear Reward for state (3, 2, 1, 0): 0.8873565094161138\n",
      "Linear Reward for state (3, 2, 0, 1): 1.3310347641241709\n",
      "Linear Reward for state (3, 2, 1, 1): 1.7747130188322275\n",
      "Linear Reward for state (3, 2, 0, 0): 0.4436782547080569\n"
     ]
    }
   ],
   "source": [
    "import numpy as np\n",
    "\n",
    "class LinearRewardFunctionOnUnitSphere:\n",
    "    def __init__(self, weights):\n",
    "        \"\"\"\n",
    "        Initialize the linear reward function with normalization to ensure the reward vector lies on the unit sphere.\n",
    "\n",
    "        :param weights: List or array of weights [w_x, w_y, w_obstacle, w_fragile]\n",
    "        \"\"\"\n",
    "        self.weights = np.array(weights)\n",
    "        # Normalize weights to ensure they lie on the unit sphere\n",
    "        self.weights = self.weights / np.linalg.norm(self.weights)\n",
    "\n",
    "    def compute_reward(self, state):\n",
    "        \"\"\"\n",
    "        Compute the reward for a given state using a linear function and normalize to unit sphere.\n",
    "\n",
    "        :param state: Tuple (x, y, obstacle, fragile)\n",
    "                      - x, y: coordinates (continuous or discrete)\n",
    "                      - obstacle: 1 if obstacle present, 0 otherwise\n",
    "                      - fragile: 1 if fragile object is present, 0 otherwise\n",
    "        :return: Computed reward value (normalized)\n",
    "        \"\"\"\n",
    "        state_vector = np.array(state)\n",
    "        reward = np.dot(self.weights, state_vector)\n",
    "        return reward\n",
    "\n",
    "# Example usage:\n",
    "weights = [1.0, 1.0, 5.0, 10.0]  # Example weights (using costs, so positive values)\n",
    "linear_reward_function = LinearRewardFunctionOnUnitSphere(weights)\n",
    "\n",
    "states = [\n",
    "    (3, 2, 1, 0),  # Obstacle present, no fragile\n",
    "    (3, 2, 0, 1),  # Fragile present, no obstacle\n",
    "    (3, 2, 1, 1),  # Both obstacle and fragile present\n",
    "    (3, 2, 0, 0)   # No obstacle, no fragile\n",
    "]\n",
    "\n",
    "for state in states:\n",
    "    reward = linear_reward_function.compute_reward(state)\n",
    "    print(f\"Linear Reward for state {state}: {reward}\")\n"
   ]
  },
  {
   "cell_type": "code",
   "execution_count": null,
   "metadata": {},
   "outputs": [],
   "source": []
  }
 ],
 "metadata": {
  "language_info": {
   "name": "python"
  }
 },
 "nbformat": 4,
 "nbformat_minor": 2
}
